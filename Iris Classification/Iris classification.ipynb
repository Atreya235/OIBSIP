{
  "nbformat": 4,
  "nbformat_minor": 0,
  "metadata": {
    "colab": {
      "provenance": []
    },
    "kernelspec": {
      "name": "python3",
      "display_name": "Python 3"
    },
    "language_info": {
      "name": "python"
    }
  },
  "cells": [
    {
      "cell_type": "code",
      "execution_count": 4,
      "metadata": {
        "colab": {
          "base_uri": "https://localhost:8080/"
        },
        "id": "7mMxrN9rD4FY",
        "outputId": "60333108-7068-457d-ad98-680baf35c5af"
      },
      "outputs": [
        {
          "output_type": "stream",
          "name": "stdout",
          "text": [
            "Drive already mounted at /content/drive; to attempt to forcibly remount, call drive.mount(\"/content/drive\", force_remount=True).\n",
            "📄 First few rows of the dataset:\n",
            "   Id  SepalLengthCm  SepalWidthCm  PetalLengthCm  PetalWidthCm      Species\n",
            "0   1            5.1           3.5            1.4           0.2  Iris-setosa\n",
            "1   2            4.9           3.0            1.4           0.2  Iris-setosa\n",
            "2   3            4.7           3.2            1.3           0.2  Iris-setosa\n",
            "3   4            4.6           3.1            1.5           0.2  Iris-setosa\n",
            "4   5            5.0           3.6            1.4           0.2  Iris-setosa\n",
            "\n",
            "📌 Column Names: ['Id', 'SepalLengthCm', 'SepalWidthCm', 'PetalLengthCm', 'PetalWidthCm', 'Species']\n",
            "\n",
            "✅ Validation Accuracy: 0.9333333333333333\n",
            "\n",
            "📊 Validation Classification Report:\n",
            "               precision    recall  f1-score   support\n",
            "\n",
            "           0       1.00      1.00      1.00         9\n",
            "           1       1.00      0.85      0.92        13\n",
            "           2       0.80      1.00      0.89         8\n",
            "\n",
            "    accuracy                           0.93        30\n",
            "   macro avg       0.93      0.95      0.94        30\n",
            "weighted avg       0.95      0.93      0.93        30\n",
            "\n",
            "\n",
            "🧪 Test Accuracy: 1.0\n",
            "\n",
            "📊 Test Classification Report:\n",
            "               precision    recall  f1-score   support\n",
            "\n",
            "           0       1.00      1.00      1.00        10\n",
            "           1       1.00      1.00      1.00         9\n",
            "           2       1.00      1.00      1.00        11\n",
            "\n",
            "    accuracy                           1.00        30\n",
            "   macro avg       1.00      1.00      1.00        30\n",
            "weighted avg       1.00      1.00      1.00        30\n",
            "\n",
            "\n",
            "🔎 Enter measurements to predict Iris species:\n",
            "Enter Sepal Length (cm): 1.2\n",
            "Enter Sepal Width (cm): 1.2\n",
            "Enter Petal Length (cm): 1.2\n",
            "Enter Petal Width (cm): 2.4\n",
            "\n",
            "🌼 Predicted Iris species: Iris-setosa\n"
          ]
        },
        {
          "output_type": "stream",
          "name": "stderr",
          "text": [
            "/usr/local/lib/python3.11/dist-packages/sklearn/utils/validation.py:2739: UserWarning: X does not have valid feature names, but RandomForestClassifier was fitted with feature names\n",
            "  warnings.warn(\n"
          ]
        }
      ],
      "source": [
        "# STEP 1: Mount Google Drive\n",
        "from google.colab import drive\n",
        "drive.mount('/content/drive')\n",
        "\n",
        "# STEP 2: Load the Dataset\n",
        "import pandas as pd\n",
        "\n",
        "# 🔁 Replace this path with the actual path of your iris CSV in Google Drive\n",
        "file_path = '/content/drive/MyDrive/csv/Iris.csv'  # <-- change if needed\n",
        "df = pd.read_csv(file_path)\n",
        "\n",
        "# STEP 3: Show first few rows and column names\n",
        "print(\"📄 First few rows of the dataset:\")\n",
        "print(df.head())\n",
        "print(\"\\n📌 Column Names:\", df.columns.tolist())\n",
        "\n",
        "# STEP 4: Encode Species column (label encoding)\n",
        "from sklearn.preprocessing import LabelEncoder\n",
        "le = LabelEncoder()\n",
        "df['Species'] = le.fit_transform(df['Species'])  # e.g., setosa → 0, versicolor → 1, etc.\n",
        "\n",
        "# STEP 5: Prepare features (X) and labels (y)\n",
        "X = df[['SepalLengthCm', 'SepalWidthCm', 'PetalLengthCm', 'PetalWidthCm']]\n",
        "y = df['Species']\n",
        "\n",
        "# STEP 6: Train-Test Split\n",
        "from sklearn.model_selection import train_test_split\n",
        "X_temp, X_test, y_temp, y_test = train_test_split(X, y, test_size=0.2, random_state=42)\n",
        "X_train, X_val, y_train, y_val = train_test_split(X_temp, y_temp, test_size=0.25, random_state=42)  # 60-20-20\n",
        "\n",
        "# STEP 7: Train the Model\n",
        "from sklearn.ensemble import RandomForestClassifier\n",
        "model = RandomForestClassifier(random_state=42)\n",
        "model.fit(X_train, y_train)\n",
        "\n",
        "# STEP 8: Evaluate the Model\n",
        "from sklearn.metrics import accuracy_score, classification_report\n",
        "\n",
        "y_pred_val = model.predict(X_val)\n",
        "print(\"\\n✅ Validation Accuracy:\", accuracy_score(y_val, y_pred_val))\n",
        "print(\"\\n📊 Validation Classification Report:\\n\", classification_report(y_val, y_pred_val))\n",
        "\n",
        "y_pred_test = model.predict(X_test)\n",
        "print(\"\\n🧪 Test Accuracy:\", accuracy_score(y_test, y_pred_test))\n",
        "print(\"\\n📊 Test Classification Report:\\n\", classification_report(y_test, y_pred_test))\n",
        "\n",
        "# STEP 9: User Input for Prediction\n",
        "print(\"\\n🔎 Enter measurements to predict Iris species:\")\n",
        "sepal_length = float(input(\"Enter Sepal Length (cm): \"))\n",
        "sepal_width  = float(input(\"Enter Sepal Width (cm): \"))\n",
        "petal_length = float(input(\"Enter Petal Length (cm): \"))\n",
        "petal_width  = float(input(\"Enter Petal Width (cm): \"))\n",
        "\n",
        "sample = [[sepal_length, sepal_width, petal_length, petal_width]]\n",
        "predicted_class = model.predict(sample)[0]\n",
        "predicted_name = le.inverse_transform([predicted_class])[0]\n",
        "\n",
        "print(f\"\\n🌼 Predicted Iris species: {predicted_name}\")\n"
      ]
    }
  ]
}