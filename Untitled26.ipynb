{
  "nbformat": 4,
  "nbformat_minor": 0,
  "metadata": {
    "colab": {
      "provenance": [],
      "authorship_tag": "ABX9TyNxnmY6UG2/ZKRkzucizVmI",
      "include_colab_link": true
    },
    "kernelspec": {
      "name": "python3",
      "display_name": "Python 3"
    },
    "language_info": {
      "name": "python"
    }
  },
  "cells": [
    {
      "cell_type": "markdown",
      "metadata": {
        "id": "view-in-github",
        "colab_type": "text"
      },
      "source": [
        "<a href=\"https://colab.research.google.com/github/Atreya235/OIBSIP/blob/main/Untitled26.ipynb\" target=\"_parent\"><img src=\"https://colab.research.google.com/assets/colab-badge.svg\" alt=\"Open In Colab\"/></a>"
      ]
    },
    {
      "cell_type": "code",
      "execution_count": 5,
      "metadata": {
        "colab": {
          "base_uri": "https://localhost:8080/"
        },
        "id": "8UtMn1i2YPyD",
        "outputId": "7cac3a3c-c32d-476c-f296-8a3b7917c051"
      },
      "outputs": [
        {
          "output_type": "stream",
          "name": "stdout",
          "text": [
            "Drive already mounted at /content/drive; to attempt to forcibly remount, call drive.mount(\"/content/drive\", force_remount=True).\n",
            "📄 First few rows of the dataset:\n",
            "   SepalLengthCm  SepalWidthCm  PetalLengthCm  PetalWidthCm      Species\n",
            "0            5.1           3.5            1.4           0.2  Iris-setosa\n",
            "1            4.9           3.0            1.4           0.2  Iris-setosa\n",
            "2            4.7           3.2            1.3           0.2  Iris-setosa\n",
            "3            4.6           3.1            1.5           0.2  Iris-setosa\n",
            "4            5.0           3.6            1.4           0.2  Iris-setosa\n",
            "\n",
            "✅ Test Accuracy: 1.0\n",
            "\n",
            "📊 Classification Report:\n",
            "                  precision    recall  f1-score   support\n",
            "\n",
            "    Iris-setosa       1.00      1.00      1.00        10\n",
            "Iris-versicolor       1.00      1.00      1.00         9\n",
            " Iris-virginica       1.00      1.00      1.00        11\n",
            "\n",
            "       accuracy                           1.00        30\n",
            "      macro avg       1.00      1.00      1.00        30\n",
            "   weighted avg       1.00      1.00      1.00        30\n",
            "\n",
            "\n",
            "🔎 Enter flower measurements to predict its species:\n",
            "Enter Sepal Length (cm): 5\n",
            "Enter Sepal Width (cm): 3\n",
            "Enter Petal Length (cm): 1.2\n",
            "Enter Petal Width (cm): 0.5\n",
            "\n",
            "🌼 Predicted Iris species: Iris-setosa\n"
          ]
        },
        {
          "output_type": "stream",
          "name": "stderr",
          "text": [
            "/usr/local/lib/python3.11/dist-packages/sklearn/utils/validation.py:2739: UserWarning: X does not have valid feature names, but RandomForestClassifier was fitted with feature names\n",
            "  warnings.warn(\n"
          ]
        }
      ],
      "source": [
        "# STEP 1: Mount Google Drive\n",
        "from google.colab import drive\n",
        "drive.mount('/content/drive')\n",
        "\n",
        "# STEP 2: Load Dataset\n",
        "import pandas as pd\n",
        "\n",
        "# 🔁 Replace this path with the correct location of your file\n",
        "file_path = '/content/drive/My Drive/csv/Iris.csv'\n",
        "df = pd.read_csv(file_path)\n",
        "\n",
        "# Drop the ID column if it exists\n",
        "if 'Id' in df.columns:\n",
        "    df = df.drop('Id', axis=1)\n",
        "\n",
        "print(\"📄 First few rows of the dataset:\")\n",
        "print(df.head())\n",
        "\n",
        "# STEP 3: Encode target column 'Species'\n",
        "from sklearn.preprocessing import LabelEncoder\n",
        "le = LabelEncoder()\n",
        "df['Species'] = le.fit_transform(df['Species'])\n",
        "\n",
        "# STEP 4: Prepare features (X) and labels (y)\n",
        "X = df[['SepalLengthCm', 'SepalWidthCm', 'PetalLengthCm', 'PetalWidthCm']]\n",
        "y = df['Species']\n",
        "\n",
        "# STEP 5: Train-Test Split\n",
        "from sklearn.model_selection import train_test_split\n",
        "X_train, X_test, y_train, y_test = train_test_split(X, y, test_size=0.2, random_state=42)\n",
        "\n",
        "# STEP 6: Train Random Forest Classifier\n",
        "from sklearn.ensemble import RandomForestClassifier\n",
        "model = RandomForestClassifier(random_state=42)\n",
        "model.fit(X_train, y_train)\n",
        "\n",
        "# STEP 7: Evaluate the Model\n",
        "from sklearn.metrics import accuracy_score, classification_report\n",
        "\n",
        "y_pred = model.predict(X_test)\n",
        "print(\"\\n✅ Test Accuracy:\", accuracy_score(y_test, y_pred))\n",
        "print(\"\\n📊 Classification Report:\\n\", classification_report(y_test, y_pred, target_names=le.classes_))\n",
        "\n",
        "# STEP 8: User Input for Prediction\n",
        "print(\"\\n🔎 Enter flower measurements to predict its species:\")\n",
        "sepal_length = float(input(\"Enter Sepal Length (cm): \"))\n",
        "sepal_width  = float(input(\"Enter Sepal Width (cm): \"))\n",
        "petal_length = float(input(\"Enter Petal Length (cm): \"))\n",
        "petal_width  = float(input(\"Enter Petal Width (cm): \"))\n",
        "\n",
        "# Wrap inputs into 2D array for prediction\n",
        "sample = [[sepal_length, sepal_width, petal_length, petal_width]]\n",
        "pred_class = model.predict(sample)[0]\n",
        "species = le.inverse_transform([pred_class])[0]\n",
        "\n",
        "print(f\"\\n🌼 Predicted Iris species: {species}\")\n"
      ]
    }
  ]
}